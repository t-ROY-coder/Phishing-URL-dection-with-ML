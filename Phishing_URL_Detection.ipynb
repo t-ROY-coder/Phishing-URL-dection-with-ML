{
  "nbformat": 4,
  "nbformat_minor": 0,
  "metadata": {
    "kernelspec": {
      "display_name": "Python 3",
      "language": "python",
      "name": "python3"
    },
    "language_info": {
      "codemirror_mode": {
        "name": "ipython",
        "version": 3
      },
      "file_extension": ".py",
      "mimetype": "text/x-python",
      "name": "python",
      "nbconvert_exporter": "python",
      "pygments_lexer": "ipython3",
      "version": "3.8.2"
    },
    "colab": {
      "name": "Phishing URL Detection.ipynb",
      "provenance": [],
      "collapsed_sections": []
    }
  },
  "cells": [
    {
      "cell_type": "markdown",
      "metadata": {
        "id": "O_7FsZyLFIbE",
        "colab_type": "text"
      },
      "source": [
        "# **Phishing URL Detection** with Machine Learning"
      ]
    },
    {
      "cell_type": "markdown",
      "metadata": {
        "id": "maB0NV0mFIbG",
        "colab_type": "text"
      },
      "source": [
        "## Objectives"
      ]
    },
    {
      "cell_type": "markdown",
      "metadata": {
        "id": "YiAO-NHNFIbI",
        "colab_type": "text"
      },
      "source": [
        "1. Collect URL data from various surveys and websites\n",
        "2. Create datasets for malicious and benevolent URLs\n",
        "3. Extract features from the URLs in these datasets\n",
        "4. Mix and shuffle the datasets into a single dataset\n",
        "5. Split the mixed dataset into training and testing datasets\n",
        "6. Create a Neural Network model\n",
        "7. Use training data to train the model\n",
        "8. Test the model with the testing data\n",
        "9. Improve model hyperparameters\n",
        "10. Repeat steps 6 through 9 with the new model configurations"
      ]
    },
    {
      "cell_type": "markdown",
      "metadata": {
        "id": "b6qFxmw6FIbK",
        "colab_type": "text"
      },
      "source": [
        "## Libraries & Packages"
      ]
    },
    {
      "cell_type": "code",
      "metadata": {
        "id": "dofMeeaIFIbL",
        "colab_type": "code",
        "colab": {}
      },
      "source": [
        "import numpy as np\n",
        "import pandas as pd\n",
        "from sklearn.model_selection import train_test_split\n",
        "import tensorflow as tf\n",
        "import matplotlib.pyplot as plt"
      ],
      "execution_count": 0,
      "outputs": []
    },
    {
      "cell_type": "markdown",
      "metadata": {
        "id": "WHKFV3DMFIbS",
        "colab_type": "text"
      },
      "source": [
        "## Datasets"
      ]
    },
    {
      "cell_type": "code",
      "metadata": {
        "id": "2OmU94FlFIbT",
        "colab_type": "code",
        "outputId": "d5c05351-2c83-4d11-d54b-bddfcab959c3",
        "colab": {
          "base_uri": "https://localhost:8080/",
          "height": 419
        }
      },
      "source": [
        "alexaRank_data = pd.read_csv('/content/top-1m.csv', names=['Rank','Domain'],\n",
        "                             skipinitialspace=True, skiprows=1, engine=\"python\")\n",
        "alexaRank_data"
      ],
      "execution_count": 0,
      "outputs": [
        {
          "output_type": "execute_result",
          "data": {
            "text/html": [
              "<div>\n",
              "<style scoped>\n",
              "    .dataframe tbody tr th:only-of-type {\n",
              "        vertical-align: middle;\n",
              "    }\n",
              "\n",
              "    .dataframe tbody tr th {\n",
              "        vertical-align: top;\n",
              "    }\n",
              "\n",
              "    .dataframe thead th {\n",
              "        text-align: right;\n",
              "    }\n",
              "</style>\n",
              "<table border=\"1\" class=\"dataframe\">\n",
              "  <thead>\n",
              "    <tr style=\"text-align: right;\">\n",
              "      <th></th>\n",
              "      <th>Rank</th>\n",
              "      <th>Domain</th>\n",
              "    </tr>\n",
              "  </thead>\n",
              "  <tbody>\n",
              "    <tr>\n",
              "      <th>0</th>\n",
              "      <td>1</td>\n",
              "      <td>google.com</td>\n",
              "    </tr>\n",
              "    <tr>\n",
              "      <th>1</th>\n",
              "      <td>2</td>\n",
              "      <td>youtube.com</td>\n",
              "    </tr>\n",
              "    <tr>\n",
              "      <th>2</th>\n",
              "      <td>3</td>\n",
              "      <td>facebook.com</td>\n",
              "    </tr>\n",
              "    <tr>\n",
              "      <th>3</th>\n",
              "      <td>4</td>\n",
              "      <td>baidu.com</td>\n",
              "    </tr>\n",
              "    <tr>\n",
              "      <th>4</th>\n",
              "      <td>5</td>\n",
              "      <td>wikipedia.org</td>\n",
              "    </tr>\n",
              "    <tr>\n",
              "      <th>...</th>\n",
              "      <td>...</td>\n",
              "      <td>...</td>\n",
              "    </tr>\n",
              "    <tr>\n",
              "      <th>999995</th>\n",
              "      <td>999996</td>\n",
              "      <td>sibf.org</td>\n",
              "    </tr>\n",
              "    <tr>\n",
              "      <th>999996</th>\n",
              "      <td>999997</td>\n",
              "      <td>bukapintu.co</td>\n",
              "    </tr>\n",
              "    <tr>\n",
              "      <th>999997</th>\n",
              "      <td>999998</td>\n",
              "      <td>klatovynet.cz</td>\n",
              "    </tr>\n",
              "    <tr>\n",
              "      <th>999998</th>\n",
              "      <td>999999</td>\n",
              "      <td>elconquistadorfm.cl</td>\n",
              "    </tr>\n",
              "    <tr>\n",
              "      <th>999999</th>\n",
              "      <td>1000000</td>\n",
              "      <td>laputertienda.com</td>\n",
              "    </tr>\n",
              "  </tbody>\n",
              "</table>\n",
              "<p>1000000 rows × 2 columns</p>\n",
              "</div>"
            ],
            "text/plain": [
              "           Rank               Domain\n",
              "0             1           google.com\n",
              "1             2          youtube.com\n",
              "2             3         facebook.com\n",
              "3             4            baidu.com\n",
              "4             5        wikipedia.org\n",
              "...         ...                  ...\n",
              "999995   999996             sibf.org\n",
              "999996   999997         bukapintu.co\n",
              "999997   999998        klatovynet.cz\n",
              "999998   999999  elconquistadorfm.cl\n",
              "999999  1000000    laputertienda.com\n",
              "\n",
              "[1000000 rows x 2 columns]"
            ]
          },
          "metadata": {
            "tags": []
          },
          "execution_count": 165
        }
      ]
    },
    {
      "cell_type": "code",
      "metadata": {
        "scrolled": true,
        "id": "FgvgqfesFIbd",
        "colab_type": "code",
        "outputId": "41e71717-4052-4214-9ba1-f254fb0600af",
        "colab": {
          "base_uri": "https://localhost:8080/",
          "height": 34
        }
      },
      "source": [
        "forbes_data = pd.DataFrame(pd.read_csv('/content/Forbes Global 2000 - 2019.csv').Company)\n",
        "top_brands = set()\n",
        "for ele in forbes_data.Company:\n",
        "  ele = ele.lower().replace(\" \", \"\")\n",
        "  top_brands.add(ele)\n",
        "\n",
        "for ele in alexaRank_data.Domain[:500]:\n",
        "  ele = ele.split('.')[0]\n",
        "  ele = ele.lower().replace(\" \", \"\")\n",
        "  top_brands.add(ele)\n",
        "\n",
        "print('Number of brands taken into account:', len(top_brands))"
      ],
      "execution_count": 0,
      "outputs": [
        {
          "output_type": "stream",
          "text": [
            "Number of brands taken into account: 2387\n"
          ],
          "name": "stdout"
        }
      ]
    },
    {
      "cell_type": "code",
      "metadata": {
        "id": "jTgkvf5ZFIbj",
        "colab_type": "code",
        "outputId": "0efc54d8-83e7-495d-9d30-bebf2a433db8",
        "colab": {
          "base_uri": "https://localhost:8080/",
          "height": 419
        }
      },
      "source": [
        "phishtank_data = pd.read_csv('/content/phishtank_data.csv', usecols=['url'])\n",
        "phishtank_data"
      ],
      "execution_count": 0,
      "outputs": [
        {
          "output_type": "execute_result",
          "data": {
            "text/html": [
              "<div>\n",
              "<style scoped>\n",
              "    .dataframe tbody tr th:only-of-type {\n",
              "        vertical-align: middle;\n",
              "    }\n",
              "\n",
              "    .dataframe tbody tr th {\n",
              "        vertical-align: top;\n",
              "    }\n",
              "\n",
              "    .dataframe thead th {\n",
              "        text-align: right;\n",
              "    }\n",
              "</style>\n",
              "<table border=\"1\" class=\"dataframe\">\n",
              "  <thead>\n",
              "    <tr style=\"text-align: right;\">\n",
              "      <th></th>\n",
              "      <th>url</th>\n",
              "    </tr>\n",
              "  </thead>\n",
              "  <tbody>\n",
              "    <tr>\n",
              "      <th>0</th>\n",
              "      <td>https://brf-sa-sadia.com/</td>\n",
              "    </tr>\n",
              "    <tr>\n",
              "      <th>1</th>\n",
              "      <td>https://pexene.com/Payment/NOTEPURE/uh/No_cap/...</td>\n",
              "    </tr>\n",
              "    <tr>\n",
              "      <th>2</th>\n",
              "      <td>https://facebouk.site</td>\n",
              "    </tr>\n",
              "    <tr>\n",
              "      <th>3</th>\n",
              "      <td>https://vousaveznouveauxmmsn1.webnode.pt/conta...</td>\n",
              "    </tr>\n",
              "    <tr>\n",
              "      <th>4</th>\n",
              "      <td>http://amz-limited.000webhostapp.com/</td>\n",
              "    </tr>\n",
              "    <tr>\n",
              "      <th>...</th>\n",
              "      <td>...</td>\n",
              "    </tr>\n",
              "    <tr>\n",
              "      <th>14920</th>\n",
              "      <td>http://bancoestado700.blogspot.com/</td>\n",
              "    </tr>\n",
              "    <tr>\n",
              "      <th>14921</th>\n",
              "      <td>http://www.habbocreditosparati.blogspot.com/</td>\n",
              "    </tr>\n",
              "    <tr>\n",
              "      <th>14922</th>\n",
              "      <td>http://creditiperhabbogratissicuro100.blogspot...</td>\n",
              "    </tr>\n",
              "    <tr>\n",
              "      <th>14923</th>\n",
              "      <td>http://mundovirtualhabbo.blogspot.com/2009_01_...</td>\n",
              "    </tr>\n",
              "    <tr>\n",
              "      <th>14924</th>\n",
              "      <td>http://aijcs.blogspot.com/2005/03/colourful-li...</td>\n",
              "    </tr>\n",
              "  </tbody>\n",
              "</table>\n",
              "<p>14925 rows × 1 columns</p>\n",
              "</div>"
            ],
            "text/plain": [
              "                                                     url\n",
              "0                              https://brf-sa-sadia.com/\n",
              "1      https://pexene.com/Payment/NOTEPURE/uh/No_cap/...\n",
              "2                                  https://facebouk.site\n",
              "3      https://vousaveznouveauxmmsn1.webnode.pt/conta...\n",
              "4                  http://amz-limited.000webhostapp.com/\n",
              "...                                                  ...\n",
              "14920                http://bancoestado700.blogspot.com/\n",
              "14921       http://www.habbocreditosparati.blogspot.com/\n",
              "14922  http://creditiperhabbogratissicuro100.blogspot...\n",
              "14923  http://mundovirtualhabbo.blogspot.com/2009_01_...\n",
              "14924  http://aijcs.blogspot.com/2005/03/colourful-li...\n",
              "\n",
              "[14925 rows x 1 columns]"
            ]
          },
          "metadata": {
            "tags": []
          },
          "execution_count": 167
        }
      ]
    },
    {
      "cell_type": "markdown",
      "metadata": {
        "id": "d0lj4AdwFIb6",
        "colab_type": "text"
      },
      "source": [
        "## Functions"
      ]
    },
    {
      "cell_type": "code",
      "metadata": {
        "id": "tW5BL8guFIcA",
        "colab_type": "code",
        "colab": {}
      },
      "source": [
        "def domain(s):\n",
        "    lst = s.split('/')\n",
        "    if '' in lst:\n",
        "        return lst[lst.index('')+1]\n",
        "    else:\n",
        "        return lst[0]"
      ],
      "execution_count": 0,
      "outputs": []
    },
    {
      "cell_type": "code",
      "metadata": {
        "id": "57HKObOAFIb7",
        "colab_type": "code",
        "colab": {}
      },
      "source": [
        "def getFeatures(url, isMal = None):\n",
        "    row = []\n",
        "    d = domain(url)\n",
        "    top = 0\n",
        "    for ele in top_brands:\n",
        "      if ele in d:\n",
        "        top = 1\n",
        "        break\n",
        "    l = len(d)\n",
        "    tld = d.split('.')[-1]\n",
        "    l_tld = len(tld)\n",
        "    is_ip = 0\n",
        "    if tld.isnumeric():\n",
        "        is_ip = 1\n",
        "    c_tld = 1\n",
        "    if tld in top20_tld:\n",
        "        c_tld = 2\n",
        "    if tld in bottom20_tld:\n",
        "        c_tld = 0\n",
        "    dig = 0\n",
        "    sub_d = 0\n",
        "    c_at = 0\n",
        "    for char in d:\n",
        "        if char >= '0' and char <= '9':\n",
        "            dig += 1\n",
        "        elif char == '.':\n",
        "            sub_d += 1\n",
        "        elif char == '@':\n",
        "            c_at = 1\n",
        "    if isMal==0 or isMal==1:\n",
        "        row = np.array([[d, tld, l, l_tld, dig, is_ip, sub_d, c_at, c_tld, top, isMal]])\n",
        "        return pd.DataFrame(row, columns = ['Domain', 'TLD', 'Length', 'len_TLD', 'Digit_count', 'is_IP',\n",
        "                                            'Subdomain_count', 'contains_@', 'common_TLD', 'Top_Brand_name', 'Malicious'])\n",
        "    else:\n",
        "        row = [[d, tld, l, l_tld, dig, is_ip, sub_d, c_at, c_tld, top]]\n",
        "        return pd.DataFrame(row, columns = ['Domain', 'TLD', 'Length', 'len_TLD', 'Digit_count', 'is_IP',\n",
        "                                            'Subdomain_count', 'contains_@', 'common_TLD', 'Top_Brand_name'])\n"
      ],
      "execution_count": 0,
      "outputs": []
    },
    {
      "cell_type": "markdown",
      "metadata": {
        "id": "GEffzfw4vVRA",
        "colab_type": "text"
      },
      "source": [
        "## Constants"
      ]
    },
    {
      "cell_type": "code",
      "metadata": {
        "id": "wv0sENG1FIcE",
        "colab_type": "code",
        "colab": {}
      },
      "source": [
        "data = {\n",
        "    'Domain':[],\n",
        "    'TLD':[],\n",
        "    'Length':[],\n",
        "    'len_TLD':[],\n",
        "    'Digit_count':[],\n",
        "    'is_IP':[],\n",
        "    'Subdomain_count':[],\n",
        "    'contains_@':[],\n",
        "    'common_TLD':[],\n",
        "    'Top_Brand_name':[],\n",
        "    'Malicious':[]\n",
        "}"
      ],
      "execution_count": 0,
      "outputs": []
    },
    {
      "cell_type": "code",
      "metadata": {
        "id": "YsyWxaPtFIcI",
        "colab_type": "code",
        "colab": {}
      },
      "source": [
        "top20_tld = {'com', 'org', 'edu', 'gov', 'uk', 'net', 'ca', 'de', 'jp', 'fr',\n",
        "             'au', 'us', 'ru', 'ch', 'it', 'nl', 'se', 'no', 'es', 'mil'}\n",
        "\n",
        "bottom20_tld = {'gw', 'ax', 'wf', 'yt', 'sj', 'mobi', 'eh', 'mh', 'bv', 'ap',\n",
        "                'cat', 'kp', 'iq', 'um', 'arpa', 'pm', 'gb', 'cs', 'td', 'so'}\n",
        "\n",
        "feature_col = ['Length', 'len_TLD', 'Digit_count', 'is_IP', 'Subdomain_count',\n",
        "               'contains_@', 'common_TLD', 'Top_Brand_name']"
      ],
      "execution_count": 0,
      "outputs": []
    },
    {
      "cell_type": "markdown",
      "metadata": {
        "id": "phhgGw-PFIcO",
        "colab_type": "text"
      },
      "source": [
        "## Feature Extraction"
      ]
    },
    {
      "cell_type": "markdown",
      "metadata": {
        "id": "JUPOCwz7v2kF",
        "colab_type": "text"
      },
      "source": [
        "#### Malicious URLs"
      ]
    },
    {
      "cell_type": "code",
      "metadata": {
        "id": "DOVugemDFIcQ",
        "colab_type": "code",
        "outputId": "3fbc815f-7d05-47e4-cbe8-a73e14fbba98",
        "colab": {
          "base_uri": "https://localhost:8080/",
          "height": 340
        }
      },
      "source": [
        "dataset = pd.DataFrame(data)\n",
        "print('Extracting Features from URLs:', end = '')\n",
        "count = 0\n",
        "for ele in phishtank_data['url'][:12500]:\n",
        "    df = getFeatures(ele, 1)\n",
        "    if count%500 == 0:\n",
        "      print('>', end = '')\n",
        "    dataset = dataset.append(df, ignore_index = True)\n",
        "    count+=1\n",
        "print()\n",
        "bad_data = dataset\n",
        "bad_data[feature_col] = bad_data[feature_col].astype(int)\n",
        "bad_data['Malicious'] = bad_data['Malicious'].astype(int)\n",
        "bad_data.info()"
      ],
      "execution_count": 0,
      "outputs": [
        {
          "output_type": "stream",
          "text": [
            "Extracting Features from URLs:>>>>>>>>>>>>>>>>>>>>>>>>>\n",
            "<class 'pandas.core.frame.DataFrame'>\n",
            "RangeIndex: 12500 entries, 0 to 12499\n",
            "Data columns (total 11 columns):\n",
            " #   Column           Non-Null Count  Dtype \n",
            "---  ------           --------------  ----- \n",
            " 0   Domain           12500 non-null  object\n",
            " 1   TLD              12500 non-null  object\n",
            " 2   Length           12500 non-null  int64 \n",
            " 3   len_TLD          12500 non-null  int64 \n",
            " 4   Digit_count      12500 non-null  int64 \n",
            " 5   is_IP            12500 non-null  int64 \n",
            " 6   Subdomain_count  12500 non-null  int64 \n",
            " 7   contains_@       12500 non-null  int64 \n",
            " 8   common_TLD       12500 non-null  int64 \n",
            " 9   Top_Brand_name   12500 non-null  int64 \n",
            " 10  Malicious        12500 non-null  int64 \n",
            "dtypes: int64(9), object(2)\n",
            "memory usage: 1.0+ MB\n"
          ],
          "name": "stdout"
        }
      ]
    },
    {
      "cell_type": "markdown",
      "metadata": {
        "id": "vlueEhOIwFVX",
        "colab_type": "text"
      },
      "source": [
        "#### Benevolent URLs"
      ]
    },
    {
      "cell_type": "code",
      "metadata": {
        "id": "B2sQMRVqFIcW",
        "colab_type": "code",
        "outputId": "77512860-0acd-4db4-f389-cf9023c80bf0",
        "colab": {
          "base_uri": "https://localhost:8080/",
          "height": 340
        }
      },
      "source": [
        "dataset = pd.DataFrame(data)\n",
        "print('Extracting Features from URLs:', end = '')\n",
        "count = 0\n",
        "for ele in alexaRank_data.Domain[:12500]:\n",
        "    df = getFeatures(ele, 0)\n",
        "    if count%500 == 0:\n",
        "      print('>', end = '')\n",
        "    dataset = dataset.append(df, ignore_index = True)\n",
        "    count += 1\n",
        "print()\n",
        "good_data = dataset\n",
        "good_data[feature_col] = good_data[feature_col].astype(int)\n",
        "good_data['Malicious'] = good_data['Malicious'].astype(int)\n",
        "good_data.info()"
      ],
      "execution_count": 0,
      "outputs": [
        {
          "output_type": "stream",
          "text": [
            "Extracting Features from URLs:>>>>>>>>>>>>>>>>>>>>>>>>>\n",
            "<class 'pandas.core.frame.DataFrame'>\n",
            "RangeIndex: 12500 entries, 0 to 12499\n",
            "Data columns (total 11 columns):\n",
            " #   Column           Non-Null Count  Dtype \n",
            "---  ------           --------------  ----- \n",
            " 0   Domain           12500 non-null  object\n",
            " 1   TLD              12500 non-null  object\n",
            " 2   Length           12500 non-null  int64 \n",
            " 3   len_TLD          12500 non-null  int64 \n",
            " 4   Digit_count      12500 non-null  int64 \n",
            " 5   is_IP            12500 non-null  int64 \n",
            " 6   Subdomain_count  12500 non-null  int64 \n",
            " 7   contains_@       12500 non-null  int64 \n",
            " 8   common_TLD       12500 non-null  int64 \n",
            " 9   Top_Brand_name   12500 non-null  int64 \n",
            " 10  Malicious        12500 non-null  int64 \n",
            "dtypes: int64(9), object(2)\n",
            "memory usage: 1.0+ MB\n"
          ],
          "name": "stdout"
        }
      ]
    },
    {
      "cell_type": "markdown",
      "metadata": {
        "id": "XpOnZO4ewK0R",
        "colab_type": "text"
      },
      "source": [
        "#### Combining different URLs into single dataset"
      ]
    },
    {
      "cell_type": "code",
      "metadata": {
        "id": "M6HFpwn8FIcd",
        "colab_type": "code",
        "outputId": "d27a808f-a479-44c8-8feb-37166e40d217",
        "colab": {
          "base_uri": "https://localhost:8080/",
          "height": 419
        }
      },
      "source": [
        "url_data = bad_data.append(good_data, ignore_index = True)\n",
        "url_data = url_data.sample(frac=1).reset_index(drop=True)\n",
        "url_data"
      ],
      "execution_count": 0,
      "outputs": [
        {
          "output_type": "execute_result",
          "data": {
            "text/html": [
              "<div>\n",
              "<style scoped>\n",
              "    .dataframe tbody tr th:only-of-type {\n",
              "        vertical-align: middle;\n",
              "    }\n",
              "\n",
              "    .dataframe tbody tr th {\n",
              "        vertical-align: top;\n",
              "    }\n",
              "\n",
              "    .dataframe thead th {\n",
              "        text-align: right;\n",
              "    }\n",
              "</style>\n",
              "<table border=\"1\" class=\"dataframe\">\n",
              "  <thead>\n",
              "    <tr style=\"text-align: right;\">\n",
              "      <th></th>\n",
              "      <th>Domain</th>\n",
              "      <th>TLD</th>\n",
              "      <th>Length</th>\n",
              "      <th>len_TLD</th>\n",
              "      <th>Digit_count</th>\n",
              "      <th>is_IP</th>\n",
              "      <th>Subdomain_count</th>\n",
              "      <th>contains_@</th>\n",
              "      <th>common_TLD</th>\n",
              "      <th>Top_Brand_name</th>\n",
              "      <th>Malicious</th>\n",
              "    </tr>\n",
              "  </thead>\n",
              "  <tbody>\n",
              "    <tr>\n",
              "      <th>0</th>\n",
              "      <td>jiayuan.com</td>\n",
              "      <td>com</td>\n",
              "      <td>11</td>\n",
              "      <td>3</td>\n",
              "      <td>0</td>\n",
              "      <td>0</td>\n",
              "      <td>1</td>\n",
              "      <td>0</td>\n",
              "      <td>2</td>\n",
              "      <td>0</td>\n",
              "      <td>0</td>\n",
              "    </tr>\n",
              "    <tr>\n",
              "      <th>1</th>\n",
              "      <td>faderfaderfader.com</td>\n",
              "      <td>com</td>\n",
              "      <td>19</td>\n",
              "      <td>3</td>\n",
              "      <td>0</td>\n",
              "      <td>0</td>\n",
              "      <td>1</td>\n",
              "      <td>0</td>\n",
              "      <td>2</td>\n",
              "      <td>0</td>\n",
              "      <td>1</td>\n",
              "    </tr>\n",
              "    <tr>\n",
              "      <th>2</th>\n",
              "      <td>www.lrct.go.tz</td>\n",
              "      <td>tz</td>\n",
              "      <td>14</td>\n",
              "      <td>2</td>\n",
              "      <td>0</td>\n",
              "      <td>0</td>\n",
              "      <td>3</td>\n",
              "      <td>0</td>\n",
              "      <td>1</td>\n",
              "      <td>1</td>\n",
              "      <td>1</td>\n",
              "    </tr>\n",
              "    <tr>\n",
              "      <th>3</th>\n",
              "      <td>betpergirisadresimiz.blogspot.com</td>\n",
              "      <td>com</td>\n",
              "      <td>33</td>\n",
              "      <td>3</td>\n",
              "      <td>0</td>\n",
              "      <td>0</td>\n",
              "      <td>2</td>\n",
              "      <td>0</td>\n",
              "      <td>2</td>\n",
              "      <td>1</td>\n",
              "      <td>1</td>\n",
              "    </tr>\n",
              "    <tr>\n",
              "      <th>4</th>\n",
              "      <td>sc2playback.com</td>\n",
              "      <td>com</td>\n",
              "      <td>15</td>\n",
              "      <td>3</td>\n",
              "      <td>1</td>\n",
              "      <td>0</td>\n",
              "      <td>1</td>\n",
              "      <td>0</td>\n",
              "      <td>2</td>\n",
              "      <td>0</td>\n",
              "      <td>0</td>\n",
              "    </tr>\n",
              "    <tr>\n",
              "      <th>...</th>\n",
              "      <td>...</td>\n",
              "      <td>...</td>\n",
              "      <td>...</td>\n",
              "      <td>...</td>\n",
              "      <td>...</td>\n",
              "      <td>...</td>\n",
              "      <td>...</td>\n",
              "      <td>...</td>\n",
              "      <td>...</td>\n",
              "      <td>...</td>\n",
              "      <td>...</td>\n",
              "    </tr>\n",
              "    <tr>\n",
              "      <th>24995</th>\n",
              "      <td>itbgiso.keltron.in</td>\n",
              "      <td>in</td>\n",
              "      <td>18</td>\n",
              "      <td>2</td>\n",
              "      <td>0</td>\n",
              "      <td>0</td>\n",
              "      <td>2</td>\n",
              "      <td>0</td>\n",
              "      <td>1</td>\n",
              "      <td>1</td>\n",
              "      <td>1</td>\n",
              "    </tr>\n",
              "    <tr>\n",
              "      <th>24996</th>\n",
              "      <td>karmajewelryshop.com</td>\n",
              "      <td>com</td>\n",
              "      <td>20</td>\n",
              "      <td>3</td>\n",
              "      <td>0</td>\n",
              "      <td>0</td>\n",
              "      <td>1</td>\n",
              "      <td>0</td>\n",
              "      <td>2</td>\n",
              "      <td>0</td>\n",
              "      <td>1</td>\n",
              "    </tr>\n",
              "    <tr>\n",
              "      <th>24997</th>\n",
              "      <td>retirafclgocr.com</td>\n",
              "      <td>com</td>\n",
              "      <td>17</td>\n",
              "      <td>3</td>\n",
              "      <td>0</td>\n",
              "      <td>0</td>\n",
              "      <td>1</td>\n",
              "      <td>0</td>\n",
              "      <td>2</td>\n",
              "      <td>1</td>\n",
              "      <td>1</td>\n",
              "    </tr>\n",
              "    <tr>\n",
              "      <th>24998</th>\n",
              "      <td>funsafetab.com</td>\n",
              "      <td>com</td>\n",
              "      <td>14</td>\n",
              "      <td>3</td>\n",
              "      <td>0</td>\n",
              "      <td>0</td>\n",
              "      <td>1</td>\n",
              "      <td>0</td>\n",
              "      <td>2</td>\n",
              "      <td>1</td>\n",
              "      <td>0</td>\n",
              "    </tr>\n",
              "    <tr>\n",
              "      <th>24999</th>\n",
              "      <td>domru.ru</td>\n",
              "      <td>ru</td>\n",
              "      <td>8</td>\n",
              "      <td>2</td>\n",
              "      <td>0</td>\n",
              "      <td>0</td>\n",
              "      <td>1</td>\n",
              "      <td>0</td>\n",
              "      <td>2</td>\n",
              "      <td>0</td>\n",
              "      <td>0</td>\n",
              "    </tr>\n",
              "  </tbody>\n",
              "</table>\n",
              "<p>25000 rows × 11 columns</p>\n",
              "</div>"
            ],
            "text/plain": [
              "                                  Domain  TLD  ...  Top_Brand_name  Malicious\n",
              "0                            jiayuan.com  com  ...               0          0\n",
              "1                    faderfaderfader.com  com  ...               0          1\n",
              "2                         www.lrct.go.tz   tz  ...               1          1\n",
              "3      betpergirisadresimiz.blogspot.com  com  ...               1          1\n",
              "4                        sc2playback.com  com  ...               0          0\n",
              "...                                  ...  ...  ...             ...        ...\n",
              "24995                 itbgiso.keltron.in   in  ...               1          1\n",
              "24996               karmajewelryshop.com  com  ...               0          1\n",
              "24997                  retirafclgocr.com  com  ...               1          1\n",
              "24998                     funsafetab.com  com  ...               1          0\n",
              "24999                           domru.ru   ru  ...               0          0\n",
              "\n",
              "[25000 rows x 11 columns]"
            ]
          },
          "metadata": {
            "tags": []
          },
          "execution_count": 174
        }
      ]
    },
    {
      "cell_type": "markdown",
      "metadata": {
        "id": "WDnRsLlZwZ6N",
        "colab_type": "text"
      },
      "source": [
        "## Train-Test Split"
      ]
    },
    {
      "cell_type": "code",
      "metadata": {
        "id": "W21vHxIEFIci",
        "colab_type": "code",
        "outputId": "64dea26f-7e06-46c1-c120-caf425bf7ac8",
        "colab": {
          "base_uri": "https://localhost:8080/",
          "height": 51
        }
      },
      "source": [
        "train, test = train_test_split(url_data, test_size=0.2, random_state=42, shuffle=True)\n",
        "url_train_data = train.reset_index(drop = True)\n",
        "url_test_data = test.reset_index(drop = True)\n",
        "print('Dimensions of Training dataset:', url_train_data.shape)\n",
        "print('Dimensions of Testing dataset:', url_test_data.shape)"
      ],
      "execution_count": 0,
      "outputs": [
        {
          "output_type": "stream",
          "text": [
            "Dimensions of Training dataset: (20000, 11)\n",
            "Dimensions of Testing dataset: (5000, 11)\n"
          ],
          "name": "stdout"
        }
      ]
    },
    {
      "cell_type": "code",
      "metadata": {
        "id": "TGu1QPFq7X8k",
        "colab_type": "code",
        "colab": {}
      },
      "source": [
        "train_y = url_train_data.pop('Malicious')\n",
        "train_X = url_train_data[feature_col]\n",
        "test_y = url_test_data.pop('Malicious')\n",
        "test_X = url_test_data[feature_col]"
      ],
      "execution_count": 0,
      "outputs": []
    },
    {
      "cell_type": "markdown",
      "metadata": {
        "id": "zAFo8en9wxpL",
        "colab_type": "text"
      },
      "source": [
        "#### Tensor Formation"
      ]
    },
    {
      "cell_type": "code",
      "metadata": {
        "id": "miWhy6CBC-zW",
        "colab_type": "code",
        "outputId": "bf53aa5b-92d3-460d-ec75-e81dfbb7fcac",
        "colab": {
          "base_uri": "https://localhost:8080/",
          "height": 119
        }
      },
      "source": [
        "dataset = tf.data.Dataset.from_tensor_slices((train_X.values, train_y.values))\n",
        "for feat, targ in dataset.take(5):\n",
        "  print ('Features: {}, Target: {}'.format(feat, targ))\n",
        "train_dataset = dataset.shuffle(len(url_train_data)).batch(1)\n",
        "train_dataset"
      ],
      "execution_count": 0,
      "outputs": [
        {
          "output_type": "stream",
          "text": [
            "Features: [12  3  0  0  1  0  2  1], Target: 1\n",
            "Features: [9 3 0 0 1 0 1 1], Target: 0\n",
            "Features: [12  3  0  0  1  0  2  1], Target: 0\n",
            "Features: [8 2 1 0 1 0 1 0], Target: 0\n",
            "Features: [30  3  0  0  2  0  2  1], Target: 1\n"
          ],
          "name": "stdout"
        },
        {
          "output_type": "execute_result",
          "data": {
            "text/plain": [
              "<BatchDataset shapes: ((None, 8), (None,)), types: (tf.int64, tf.int64)>"
            ]
          },
          "metadata": {
            "tags": []
          },
          "execution_count": 177
        }
      ]
    },
    {
      "cell_type": "code",
      "metadata": {
        "id": "tteFoFD_VEwI",
        "colab_type": "code",
        "outputId": "151c8251-a6e0-45db-e09d-d08ed42d5206",
        "colab": {
          "base_uri": "https://localhost:8080/",
          "height": 119
        }
      },
      "source": [
        "dataset = tf.data.Dataset.from_tensor_slices((test_X.values, test_y.values))\n",
        "for feat, targ in dataset.take(5):\n",
        "  print ('Features: {}, Target: {}'.format(feat, targ))\n",
        "test_dataset = dataset.shuffle(len(url_test_data)).batch(1)\n",
        "test_dataset"
      ],
      "execution_count": 0,
      "outputs": [
        {
          "output_type": "stream",
          "text": [
            "Features: [19  3  0  0  1  0  2  1], Target: 1\n",
            "Features: [18  3  0  0  1  0  2  1], Target: 1\n",
            "Features: [10  2  0  0  2  0  1  0], Target: 0\n",
            "Features: [27  3  0  0  2  0  2  1], Target: 1\n",
            "Features: [15  3  0  0  1  0  2  1], Target: 0\n"
          ],
          "name": "stdout"
        },
        {
          "output_type": "execute_result",
          "data": {
            "text/plain": [
              "<BatchDataset shapes: ((None, 8), (None,)), types: (tf.int64, tf.int64)>"
            ]
          },
          "metadata": {
            "tags": []
          },
          "execution_count": 178
        }
      ]
    },
    {
      "cell_type": "markdown",
      "metadata": {
        "id": "Mdbi9BT5ctbn",
        "colab_type": "text"
      },
      "source": [
        "## Model"
      ]
    },
    {
      "cell_type": "code",
      "metadata": {
        "id": "vZu00YjvLNBe",
        "colab_type": "code",
        "colab": {}
      },
      "source": [
        "model = tf.keras.Sequential([\n",
        "                             tf.keras.layers.Dense(len(feature_col), activation='relu'),\n",
        "                             tf.keras.layers.Dense(2*len(feature_col), activation='relu'),\n",
        "                             tf.keras.layers.Dense(1, activation='hard_sigmoid')\n",
        "])\n",
        "\n",
        "\n",
        "model.compile(optimizer='adam',\n",
        "              loss=tf.keras.losses.BinaryCrossentropy(from_logits=True),\n",
        "              metrics=['accuracy'])"
      ],
      "execution_count": 0,
      "outputs": []
    },
    {
      "cell_type": "markdown",
      "metadata": {
        "id": "7ALMQ9UAw7R5",
        "colab_type": "text"
      },
      "source": [
        "#### Training Model"
      ]
    },
    {
      "cell_type": "code",
      "metadata": {
        "id": "7fRIVCpYvRdZ",
        "colab_type": "code",
        "outputId": "5bf6299d-65b9-419c-8996-89e1fee31f4c",
        "colab": {
          "base_uri": "https://localhost:8080/",
          "height": 357
        }
      },
      "source": [
        "hist = model.fit(train_dataset, epochs = 10)"
      ],
      "execution_count": 0,
      "outputs": [
        {
          "output_type": "stream",
          "text": [
            "Epoch 1/10\n",
            "20000/20000 [==============================] - 22s 1ms/step - loss: 0.6152 - accuracy: 0.7355\n",
            "Epoch 2/10\n",
            "20000/20000 [==============================] - 22s 1ms/step - loss: 0.6075 - accuracy: 0.7498\n",
            "Epoch 3/10\n",
            "20000/20000 [==============================] - 22s 1ms/step - loss: 0.6023 - accuracy: 0.7626\n",
            "Epoch 4/10\n",
            "20000/20000 [==============================] - 23s 1ms/step - loss: 0.5983 - accuracy: 0.7724\n",
            "Epoch 5/10\n",
            "20000/20000 [==============================] - 22s 1ms/step - loss: 0.5962 - accuracy: 0.7770\n",
            "Epoch 6/10\n",
            "20000/20000 [==============================] - 21s 1ms/step - loss: 0.5950 - accuracy: 0.7797\n",
            "Epoch 7/10\n",
            "20000/20000 [==============================] - 22s 1ms/step - loss: 0.5945 - accuracy: 0.7792\n",
            "Epoch 8/10\n",
            "20000/20000 [==============================] - 22s 1ms/step - loss: 0.5942 - accuracy: 0.7778\n",
            "Epoch 9/10\n",
            "20000/20000 [==============================] - 24s 1ms/step - loss: 0.5939 - accuracy: 0.7825\n",
            "Epoch 10/10\n",
            "20000/20000 [==============================] - 22s 1ms/step - loss: 0.5949 - accuracy: 0.7782\n"
          ],
          "name": "stdout"
        }
      ]
    },
    {
      "cell_type": "markdown",
      "metadata": {
        "id": "U4keuFDGz8n2",
        "colab_type": "text"
      },
      "source": [
        "#### Metric Visualization"
      ]
    },
    {
      "cell_type": "code",
      "metadata": {
        "id": "gGwOYhXNzxFR",
        "colab_type": "code",
        "outputId": "72e89653-b091-4f55-e35c-758fef8b04c4",
        "colab": {
          "base_uri": "https://localhost:8080/",
          "height": 279
        }
      },
      "source": [
        "plt.plot(hist.history['loss'])\n",
        "plt.plot(hist.history['accuracy'])\n",
        "plt.xlabel('Epochs')\n",
        "plt.ylabel('Metric')\n",
        "plt.grid(b = True)\n",
        "plt.legend(['Loss', 'Accuracy'], loc = 'center right')\n",
        "plt.show()"
      ],
      "execution_count": 0,
      "outputs": [
        {
          "output_type": "display_data",
          "data": {
            "image/png": "[encoded data removed]",
            "text/plain": [
              "<Figure size 432x288 with 1 Axes>"
            ]
          },
          "metadata": {
            "tags": [],
            "needs_background": "light"
          }
        }
      ]
    },
    {
      "cell_type": "markdown",
      "metadata": {
        "id": "sjnfP603xXFu",
        "colab_type": "text"
      },
      "source": [
        "#### Testing Model"
      ]
    },
    {
      "cell_type": "code",
      "metadata": {
        "id": "a3hlEHfy02pD",
        "colab_type": "code",
        "outputId": "218b4364-34fb-44d0-eca7-0d53e88bf9de",
        "colab": {
          "base_uri": "https://localhost:8080/",
          "height": 68
        }
      },
      "source": [
        "test_loss, test_acc = model.evaluate(test_dataset)\n",
        "print('\\nTest Accuracy =', \"{:.2f}\".format(test_acc*100), '%')"
      ],
      "execution_count": 0,
      "outputs": [
        {
          "output_type": "stream",
          "text": [
            "5000/5000 [==============================] - 4s 899us/step - loss: 0.5917 - accuracy: 0.7890\n",
            "\n",
            "Test Accuracy = 78.90 %\n"
          ],
          "name": "stdout"
        }
      ]
    },
    {
      "cell_type": "markdown",
      "metadata": {
        "id": "vI0lygLt2VER",
        "colab_type": "text"
      },
      "source": [
        "#### Model prediction on sample data"
      ]
    },
    {
      "cell_type": "code",
      "metadata": {
        "id": "OwWFD4_i1a-o",
        "colab_type": "code",
        "outputId": "62cca0ae-ca57-4ce2-95e7-1a36a75b30c6",
        "colab": {
          "base_uri": "https://localhost:8080/",
          "height": 34
        }
      },
      "source": [
        "url = 'https://colab.research.google.com/drive/10mCw025h30niD1xrBIGxgNz5lDxvH_--#scrollTo=OwWFD4_i1a-o'\n",
        "df = getFeatures(url)\n",
        "df = df[feature_col]\n",
        "data = tf.data.Dataset.from_tensor_slices((train_X.values)).batch(1)\n",
        "pred = model.predict(data)\n",
        "print(pred[0])"
      ],
      "execution_count": 0,
      "outputs": [
        {
          "output_type": "stream",
          "text": [
            "[0.]\n"
          ],
          "name": "stdout"
        }
      ]
    }
  ]
}